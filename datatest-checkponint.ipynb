{
 "cells": [
  {
   "cell_type": "code",
   "execution_count": null,
   "metadata": {},
   "outputs": [],
   "source": [
    "\n",
    "import pandas as pd\n",
    "import numpy as np\n",
    "import matplotlib.pyplot as plt\n",
    "from sklearn.model_selection import train_test_split\n",
    "from keras.models import model_from_json\n",
    "from sklearn.metrics import *\n",
    "%matplotlib inline"
   ]
  },
  {
   "cell_type": "code",
   "execution_count": null,
   "metadata": {},
   "outputs": [],
   "source": [
    "import tensorflow"
   ]
  },
  {
   "cell_type": "code",
   "execution_count": null,
   "metadata": {},
   "outputs": [],
   "source": [
    "import keras"
   ]
  },
  {
   "cell_type": "code",
   "execution_count": null,
   "metadata": {},
   "outputs": [],
   "source": [
    "data = pd.read_csv('../data/data.csv')\n",
    "data.head()"
   ]
  },
  {
   "cell_type": "code",
   "execution_count": null,
   "metadata": {},
   "outputs": [],
   "source": [
    "data.shape"
   ]
  },
  {
   "cell_type": "code",
   "execution_count": null,
   "metadata": {},
   "outputs": [],
   "source": [
    "attributes = ['mfcc%d'%i for i in range(1,21)]\n",
    "pd.plotting.scatter_matrix(data[attributes], figsize=(12,8));"
   ]
  },
  {
   "cell_type": "code",
   "execution_count": null,
   "metadata": {},
   "outputs": [],
   "source": [
    "attributes2 = ['chroma_stft','rmse','spectral_centroid', 'spectral_bandwidth', 'rolloff','zero_crossing_rate']\n",
    "pd.plotting.scatter_matrix(data[attributes2], figsize=(12,8));"
   ]
  },
  {
   "cell_type": "code",
   "execution_count": null,
   "metadata": {},
   "outputs": [],
   "source": [
    "from sklearn import preprocessing"
   ]
  },
  {
   "cell_type": "code",
   "execution_count": null,
   "metadata": {},
   "outputs": [],
   "source": [
    "labels = data.iloc[:, -1]\n",
    "encoder = preprocessing.LabelEncoder()"
   ]
  },
  {
   "cell_type": "code",
   "execution_count": null,
   "metadata": {},
   "outputs": [],
   "source": [
    "y = encoder.fit_transform(labels)#se obtienen los labels \n",
    "print(y.shape,np.unique(y))"
   ]
  },
  {
   "cell_type": "code",
   "execution_count": null,
   "metadata": {},
   "outputs": [],
   "source": [
    "# Dropping de columnas inncesarias\n",
    "data = data.drop(['filename'],axis=1)"
   ]
  },
  {
   "cell_type": "code",
   "execution_count": null,
   "metadata": {},
   "outputs": [],
   "source": [
    "scaler = preprocessing.StandardScaler()#Se estandarizan las caracteristicas Z=(x-u)/s\n",
    "X = scaler.fit_transform(np.array(data.iloc[:, :-1], dtype = float))"
   ]
  },
  {
   "cell_type": "code",
   "execution_count": null,
   "metadata": {},
   "outputs": [],
   "source": [
    "#guardamos los valores de las medias y desviaciones estándar\n",
    "np.save(\"medias\", scaler.mean_)\n",
    "np.save(\"desvest\", scaler.scale_)"
   ]
  },
  {
   "cell_type": "code",
   "execution_count": null,
   "metadata": {},
   "outputs": [],
   "source": [
    "data.shape"
   ]
  },
  {
   "cell_type": "code",
   "execution_count": null,
   "metadata": {},
   "outputs": [],
   "source": [
    "print(X.shape,y.shape)"
   ]
  },
  {
   "cell_type": "code",
   "execution_count": null,
   "metadata": {},
   "outputs": [],
   "source": [
    "X_train, X_test, y_train, y_test = train_test_split(X, y, test_size=0.2)"
   ]
  },
  {
   "cell_type": "code",
   "execution_count": null,
   "metadata": {},
   "outputs": [],
   "source": [
    "def tpr(est,X,y):\n",
    "    p = est.predict(X)\n",
    "    return np.mean (p[y==1] == y[y==1])\n",
    "\n",
    "def tnr(est,X,y):\n",
    "    p = est.predict(X)\n",
    "    return np.mean(p[y==0] == y[y==0])"
   ]
  },
  {
   "cell_type": "code",
   "execution_count": null,
   "metadata": {},
   "outputs": [],
   "source": [
    "from sklearn.ensemble import RandomForestClassifier\n",
    "from sklearn.tree import DecisionTreeClassifier\n",
    "from sklearn.naive_bayes import GaussianNB    \n",
    "from sklearn.decomposition import PCA\n",
    "from sklearn.model_selection import train_test_split,cross_val_score,KFold\n",
    "from sklearn.metrics import *\n",
    "\n",
    "import seaborn as sn\n",
    "\n",
    "rf = RandomForestClassifier(n_estimators=200)\n",
    "g = GaussianNB() \n",
    "#Xtr, Xts, ytr, yts = train_test_split(X,y, test_size=.2)\n",
    "#rf.fit(Xtr,ytr)\n",
    "#g.fit(Xtr,ytr)\n",
    "rf.fit(X_train,y_train)\n",
    "g.fit(X_train,y_train)\n",
    "print(\"Random Forest Accuracy :\",rf.score(X_test,y_test))\n",
    "print(\"Naive Bayes Accuracy :\",g.score(X_test,y_test))\n",
    "print(\"Shape :\",X.shape)\n",
    "X2 = PCA(n_components=20).fit_transform(X)\n",
    "print (\"shape after PCA:\", X2.shape)\n",
    "srf = cross_val_score(GaussianNB(), X2, y, cv=KFold(10, shuffle=True), scoring=make_scorer(accuracy_score))\n",
    "print (\"RF accuracy %.3f (+/- %.5f)\"%(np.mean(srf), np.std(srf)))\n",
    "s = cross_val_score(GaussianNB(), X2, y, cv=KFold(10, shuffle=True), scoring=make_scorer(accuracy_score))\n",
    "print (\"GNB accuracy %.3f (+/- %.5f)\"%(np.mean(s), np.std(s)))\n",
    "\n",
    "predictions=rf.predict(Xts)\n",
    "rf_model_cm = confusion_matrix(yts, predictions)\n",
    "rf_model_df_cm = pd.DataFrame(rf_model_cm)  \n",
    "plt.figure(figsize = (20,14))  \n",
    "sn.set(font_scale=1.4) #for label size  \n",
    "sn.heatmap(rf_model_df_cm, annot=True, annot_kws={\"size\": 12}) # font size  \n",
    "plt.show() "
   ]
  },
  {
   "cell_type": "code",
   "execution_count": null,
   "metadata": {},
   "outputs": [],
   "source": [
    "from sklearn.naive_bayes import GaussianNB   \n",
    "estGNB = GaussianNB()\n",
    "s1GNB = cross_val_score(estGNB, X, y, cv=KFold(10, shuffle=True), scoring=make_scorer(accuracy_score))\n",
    "print(\"accuracy %.3f (+/- %.5f)\"%(np.mean(s1GNB), np.std(s1GNB)))\n",
    "s2GNB = cross_val_score(estGNB, X, y, cv=KFold(10, shuffle=True), scoring=tpr)\n",
    "print(\"tpr      %.3f (+/- %.5f)\"%(np.mean(s2GNB), np.std(s2GNB)))\n",
    "s3GNB = cross_val_score(estGNB, X, y, cv=KFold(10, shuffle=True), scoring=tnr)\n",
    "print(\"tnr      %.3f (+/- %.5f)\"%(np.mean(s3GNB), np.std(s3GNB)))"
   ]
  },
  {
   "cell_type": "code",
   "execution_count": null,
   "metadata": {},
   "outputs": [],
   "source": [
    "from sklearn.ensemble import RandomForestClassifier\n",
    "estRFC = RandomForestClassifier(n_estimators = 20)\n",
    "s1RFC = cross_val_score(estRFC, X, y, cv=KFold(10, shuffle=True), scoring=make_scorer(accuracy_score))\n",
    "print(\"accuracy %.3f (+/- %.5f)\"%(np.mean(s1RFC), np.std(s1RFC)))\n",
    "s2RFC = cross_val_score(estRFC, X, y, cv=KFold(10, shuffle=True), scoring=tpr)\n",
    "print(\"tpr      %.3f (+/- %.5f)\"%(np.mean(s2RFC), np.std(s2RFC)))\n",
    "s3RFC = cross_val_score(estRFC, X, y, cv=KFold(10, shuffle=True), scoring=tnr)\n",
    "print(\"tnr      %.3f (+/- %.5f)\"%(np.mean(s3RFC), np.std(s3RFC)))"
   ]
  },
  {
   "cell_type": "code",
   "execution_count": null,
   "metadata": {},
   "outputs": [],
   "source": [
    "from sklearn.tree import DecisionTreeClassifier\n",
    "estDTC = DecisionTreeClassifier()\n",
    "s1DTC = cross_val_score(estDTC, X, y, cv=KFold(10, shuffle=True), scoring=make_scorer(accuracy_score))\n",
    "print(\"accuracy %.3f (+/- %.5f)\"%(np.mean(s1DTC), np.std(s1DTC)))\n",
    "s2DTC = cross_val_score(estDTC, X, y, cv=KFold(10, shuffle=True), scoring=tpr)\n",
    "print(\"tpr      %.3f (+/- %.5f)\"%(np.mean(s2DTC), np.std(s2DTC)))\n",
    "s3DTC = cross_val_score(estDTC, X, y, cv=KFold(10, shuffle=True), scoring=tnr)\n",
    "print(\"tnr      %.3f (+/- %.5f)\"%(np.mean(s3DTC), np.std(s3DTC)))"
   ]
  },
  {
   "cell_type": "code",
   "execution_count": null,
   "metadata": {},
   "outputs": [],
   "source": [
    "from sklearn.svm import SVC\n",
    "estSVC = SVC(gamma='auto')\n",
    "s1SVC = cross_val_score(estSVC, X, y, cv=KFold(10, shuffle=True), scoring=make_scorer(accuracy_score))\n",
    "print(\"accuracy %.3f (+/- %.5f)\"%(np.mean(s1SVC), np.std(s1SVC)))\n",
    "s2SVC = cross_val_score(estSVC, X, y, cv=KFold(10, shuffle=True), scoring=tpr)\n",
    "print(\"tpr      %.3f (+/- %.5f)\"%(np.mean(s2SVC), np.std(s2SVC)))\n",
    "s3SVC = cross_val_score(estSVC, X, y, cv=KFold(10, shuffle=True), scoring=tnr)\n",
    "print(\"tnr      %.3f (+/- %.5f)\"%(np.mean(s3SVC), np.std(s3SVC)))"
   ]
  },
  {
   "cell_type": "code",
   "execution_count": null,
   "metadata": {},
   "outputs": [],
   "source": [
    "from keras import models\n",
    "from keras import layers\n",
    "\n",
    "model = models.Sequential()\n",
    "model.add(layers.Dense(256, activation='relu', input_shape=(X_train.shape[1],)))\n",
    "\n",
    "model.add(layers.Dense(128, activation='relu'))\n",
    "\n",
    "model.add(layers.Dense(64, activation='relu'))\n",
    "\n",
    "model.add(layers.Dense(10, activation='softmax'))"
   ]
  },
  {
   "cell_type": "code",
   "execution_count": null,
   "metadata": {},
   "outputs": [],
   "source": [
    "model.compile(optimizer='adam',\n",
    "              loss='sparse_categorical_crossentropy',\n",
    "              metrics=['accuracy'])"
   ]
  },
  {
   "cell_type": "code",
   "execution_count": null,
   "metadata": {},
   "outputs": [],
   "source": [
    "history = model.fit(X_train,\n",
    "                    y_train,\n",
    "                    epochs=20)"
   ]
  },
  {
   "cell_type": "code",
   "execution_count": null,
   "metadata": {},
   "outputs": [],
   "source": [
    "test_loss, test_acc = model.evaluate(X_test,y_test)"
   ]
  },
  {
   "cell_type": "code",
   "execution_count": null,
   "metadata": {},
   "outputs": [],
   "source": [
    "print('test_acc: ',test_acc)"
   ]
  },
  {
   "cell_type": "code",
   "execution_count": null,
   "metadata": {},
   "outputs": [],
   "source": [
    "from sklearn.metrics import confusion_matrix\n",
    "import seaborn as sn\n",
    "model_pred = model.predict(X_test)  \n",
    "\n",
    "values_predicted = np.argmax(model_pred,axis=1)\n",
    "model_cm = confusion_matrix(y_test, values_predicted)\n",
    "model_df_cm = pd.DataFrame(model_cm)  \n",
    "plt.figure(figsize = (20,14))  \n",
    "sn.set(font_scale=1.4) #for label size  \n",
    "sn.heatmap(model_df_cm, annot=True, annot_kws={\"size\": 12}) # font size  \n",
    "plt.show()  "
   ]
  },
  {
   "cell_type": "code",
   "execution_count": null,
   "metadata": {},
   "outputs": [],
   "source": [
    "# serialize model to JSON\n",
    "model_json = model.to_json()\n",
    "with open(\"model.json\", \"w\") as json_file:\n",
    "    json_file.write(model_json)\n",
    "    # serialize weights to HDF5\n",
    "model.save_weights(\"model.h5\")\n",
    "print(\"Saved model to disk\")"
   ]
  },
  {
   "cell_type": "code",
   "execution_count": null,
   "metadata": {},
   "outputs": [],
   "source": [
    "\"\"\"\n",
    "\n",
    "# load json and create model\n",
    "json_file = open('model.json', 'r')\n",
    "loaded_model_json = json_file.read()\n",
    "json_file.close()\n",
    "loaded_model = model_from_json(loaded_model_json)\n",
    "# load weights into new model\n",
    "loaded_model.load_weights(\"model.h5\")\n",
    "print(\"Loaded model from disk\")\n",
    "\n",
    "\"\"\""
   ]
  },
  {
   "cell_type": "code",
   "execution_count": null,
   "metadata": {},
   "outputs": [],
   "source": [
    "\"\"\"\n",
    "\n",
    "#compiling the loaded model\n",
    "loaded_model.compile(optimizer='adam',\n",
    "              loss='sparse_categorical_crossentropy',\n",
    "              metrics=['accuracy'])\n",
    "              \n",
    "\"\"\""
   ]
  },
  {
   "cell_type": "code",
   "execution_count": null,
   "metadata": {},
   "outputs": [],
   "source": [
    "\"\"\"\n",
    "\n",
    "#evaluating the loaded model\n",
    "test_loss, test_acc = loaded_model.evaluate(X_test,y_test)\n",
    "\n",
    "\"\"\""
   ]
  },
  {
   "cell_type": "code",
   "execution_count": null,
   "metadata": {},
   "outputs": [],
   "source": [
    "\"\"\"\n",
    "\n",
    "print('test_acc: ',test_acc)\n",
    "\n",
    "\"\"\""
   ]
  }
 ],
 "metadata": {
  "kernelspec": {
   "display_name": "Python 3.10.8 64-bit (microsoft store)",
   "language": "python",
   "name": "python3"
  },
  "language_info": {
   "name": "python",
   "version": "3.10.8"
  },
  "orig_nbformat": 4,
  "vscode": {
   "interpreter": {
    "hash": "602bbe8e8fe3127dc2d2bb8f57c49cfbb507be2cc0e090f10eb4c4d0af354b8b"
   }
  }
 },
 "nbformat": 4,
 "nbformat_minor": 2
}
